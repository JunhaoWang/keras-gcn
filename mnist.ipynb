{
 "cells": [
  {
   "cell_type": "code",
   "execution_count": 1,
   "metadata": {},
   "outputs": [
    {
     "name": "stderr",
     "output_type": "stream",
     "text": [
      "Using TensorFlow backend.\n"
     ]
    }
   ],
   "source": [
    "from __future__ import absolute_import\n",
    "from __future__ import division\n",
    "from __future__ import print_function\n",
    "\n",
    "from keras.layers import Lambda, Input, Dense, Reshape\n",
    "from keras.models import Model\n",
    "from keras.datasets import mnist\n",
    "from keras.losses import mse, binary_crossentropy\n",
    "from keras.utils import plot_model\n",
    "from keras import backend as K\n",
    "\n",
    "import numpy as np\n",
    "import matplotlib.pyplot as plt\n",
    "import argparse\n",
    "import os\n",
    "\n",
    "from mpl_toolkits.mplot3d import Axes3D\n",
    "\n",
    "# reparameterization trick\n",
    "# instead of sampling from Q(z|X), sample eps = N(0,I)\n",
    "# z = z_mean + sqrt(var)*eps\n",
    "def sampling(args):\n",
    "    \"\"\"Reparameterization trick by sampling fr an isotropic unit Gaussian.\n",
    "    # Arguments:\n",
    "        args (tensor): mean and log of variance of Q(z|X)\n",
    "    # Returns:\n",
    "        z (tensor): sampled latent vector\n",
    "    \"\"\"\n",
    "\n",
    "    z_mean, z_log_var = args\n",
    "    batch = K.shape(z_mean)[0]\n",
    "    dim = K.int_shape(z_mean)[1]\n",
    "    # by default, random_normal has mean=0 and std=1.0\n",
    "    epsilon = K.random_normal(shape=(batch, dim))\n",
    "    thre = K.random_uniform(shape=(batch,1))\n",
    "    return z_mean + K.exp(0.5 * z_log_var) * epsilon\n"
   ]
  },
  {
   "cell_type": "code",
   "execution_count": 2,
   "metadata": {},
   "outputs": [
    {
     "name": "stdout",
     "output_type": "stream",
     "text": [
      "Total # of outliers: 2050\n"
     ]
    },
    {
     "data": {
      "image/png": "[encoded data removed]",
      "text/plain": [
       "<Figure size 576x144 with 3 Axes>"
      ]
     },
     "metadata": {
      "needs_background": "light"
     },
     "output_type": "display_data"
    },
    {
     "data": {
      "text/plain": [
       "<Figure size 432x288 with 0 Axes>"
      ]
     },
     "metadata": {},
     "output_type": "display_data"
    }
   ],
   "source": [
    "# MNIST dataset\n",
    "(x_train, y_train), (x_test, y_test) = mnist.load_data()\n",
    "\n",
    "image_size = x_train.shape[1]\n",
    "original_dim = image_size * image_size\n",
    "x_train = np.reshape(x_train, [-1, original_dim])\n",
    "x_test  = np.reshape(x_test, [-1, original_dim])\n",
    "x_train = x_train.astype('float32') / 255\n",
    "x_test  = x_test.astype('float32') / 255\n",
    "\n",
    "idx_train = (y_train == 0) |(y_train == 1) | (y_train == 5) | (np.random.rand(y_train.shape[0]) < 0.05)\n",
    "x_train = x_train[idx_train,:]\n",
    "y_train = y_train[idx_train]\n",
    "\n",
    "y_train[(y_train != 0) & (y_train != 1) & (y_train != 5)] = 11\n",
    "y_train[y_train == 0] = 0\n",
    "y_train[y_train == 1] = 1\n",
    "y_train[y_train == 5] = 2\n",
    "y_train[y_train > 3] = 3\n",
    "\n",
    "mean_train = np.zeros((3,original_dim))\n",
    "mean_train[0,:] = np.mean(x_train[y_train == 0,:], axis = 0)\n",
    "mean_train[1,:] = np.mean(x_train[y_train == 1,:], axis = 0)\n",
    "mean_train[2,:] = np.mean(x_train[y_train == 2,:], axis = 0)\n",
    "\n",
    "fig = plt.figure(figsize=(8,2)) \n",
    "for i in range(3):\n",
    "    ax = fig.add_subplot(1,3,i+1)\n",
    "    ax.imshow(np.reshape(mean_train[i,:],[28,28]))\n",
    "plt.figure(\"Mean Image of Each Digit\")\n",
    "print('Total # of outliers:', sum(y_train == 3))"
   ]
  },
  {
   "cell_type": "code",
   "execution_count": 3,
   "metadata": {},
   "outputs": [],
   "source": [
    "from collections import Counter"
   ]
  },
  {
   "cell_type": "code",
   "execution_count": 4,
   "metadata": {},
   "outputs": [
    {
     "data": {
      "text/plain": [
       "Counter({2: 5421, 0: 5923, 1: 6742, 3: 2050})"
      ]
     },
     "execution_count": 4,
     "metadata": {},
     "output_type": "execute_result"
    }
   ],
   "source": [
    "Counter(y_train)"
   ]
  },
  {
   "cell_type": "code",
   "execution_count": 5,
   "metadata": {},
   "outputs": [],
   "source": [
    "# network parameters\n",
    "input_shape = (original_dim, )\n",
    "intermediate_dim = 384\n",
    "intermediate_dim_2 = 64\n",
    "batch_size = 256\n",
    "latent_dim = 4\n",
    "cat_dim = 1\n",
    "class_num = 3\n",
    "epochs = 50"
   ]
  },
  {
   "cell_type": "code",
   "execution_count": 6,
   "metadata": {
    "scrolled": true
   },
   "outputs": [
    {
     "name": "stderr",
     "output_type": "stream",
     "text": [
      "WARNING: Logging before flag parsing goes to stderr.\n",
      "W0824 20:14:30.277709 10224 deprecation_wrapper.py:119] From C:\\Users\\Junhao\\Anaconda3\\lib\\site-packages\\keras\\backend\\tensorflow_backend.py:517: The name tf.placeholder is deprecated. Please use tf.compat.v1.placeholder instead.\n",
      "\n",
      "W0824 20:14:30.295685 10224 deprecation_wrapper.py:119] From C:\\Users\\Junhao\\Anaconda3\\lib\\site-packages\\keras\\backend\\tensorflow_backend.py:4138: The name tf.random_uniform is deprecated. Please use tf.random.uniform instead.\n",
      "\n",
      "W0824 20:14:30.421360 10224 deprecation_wrapper.py:119] From C:\\Users\\Junhao\\Anaconda3\\lib\\site-packages\\keras\\backend\\tensorflow_backend.py:4115: The name tf.random_normal is deprecated. Please use tf.random.normal instead.\n",
      "\n",
      "W0824 20:14:30.441271 10224 deprecation_wrapper.py:119] From C:\\Users\\Junhao\\Anaconda3\\lib\\site-packages\\keras\\backend\\tensorflow_backend.py:74: The name tf.get_default_graph is deprecated. Please use tf.compat.v1.get_default_graph instead.\n",
      "\n"
     ]
    },
    {
     "name": "stdout",
     "output_type": "stream",
     "text": [
      "__________________________________________________________________________________________________\n",
      "Layer (type)                    Output Shape         Param #     Connected to                     \n",
      "==================================================================================================\n",
      "encoder_input (InputLayer)      (None, 784)          0                                            \n",
      "__________________________________________________________________________________________________\n",
      "encoder_intermediate (Dense)    (None, 384)          301440      encoder_input[0][0]              \n",
      "__________________________________________________________________________________________________\n",
      "encoder_intermediate_2 (Dense)  (None, 64)           24640       encoder_intermediate[0][0]       \n",
      "__________________________________________________________________________________________________\n",
      "dummy (InputLayer)              (None, 1)            0                                            \n",
      "__________________________________________________________________________________________________\n",
      "z_mean (Dense)                  (None, 4)            260         encoder_intermediate_2[0][0]     \n",
      "__________________________________________________________________________________________________\n",
      "z_log_var (Dense)               (None, 4)            260         encoder_intermediate_2[0][0]     \n",
      "__________________________________________________________________________________________________\n",
      "mu_vector (Dense)               (None, 12)           12          dummy[0][0]                      \n",
      "__________________________________________________________________________________________________\n",
      "encoder_intermediate_3 (Dense)  (None, 64)           24640       encoder_intermediate[0][0]       \n",
      "__________________________________________________________________________________________________\n",
      "z (Lambda)                      (None, 4)            0           z_mean[0][0]                     \n",
      "                                                                 z_log_var[0][0]                  \n",
      "__________________________________________________________________________________________________\n",
      "mu (Reshape)                    (None, 3, 4)         0           mu_vector[0][0]                  \n",
      "__________________________________________________________________________________________________\n",
      "c (Dense)                       (None, 3)            195         encoder_intermediate_2[0][0]     \n",
      "__________________________________________________________________________________________________\n",
      "c_outlier (Dense)               (None, 2)            130         encoder_intermediate_3[0][0]     \n",
      "__________________________________________________________________________________________________\n",
      "pi (Dense)                      (None, 3)            6           dummy[0][0]                      \n",
      "==================================================================================================\n",
      "Total params: 351,583\n",
      "Trainable params: 351,583\n",
      "Non-trainable params: 0\n",
      "__________________________________________________________________________________________________\n",
      "_________________________________________________________________\n",
      "Layer (type)                 Output Shape              Param #   \n",
      "=================================================================\n",
      "z_sampling (InputLayer)      (None, 4)                 0         \n",
      "_________________________________________________________________\n",
      "dense_1 (Dense)              (None, 64)                320       \n",
      "_________________________________________________________________\n",
      "dense_2 (Dense)              (None, 384)               24960     \n",
      "_________________________________________________________________\n",
      "dense_3 (Dense)              (None, 784)               301840    \n",
      "=================================================================\n",
      "Total params: 327,120\n",
      "Trainable params: 327,120\n",
      "Non-trainable params: 0\n",
      "_________________________________________________________________\n",
      "__________________________________________________________________________________________________\n",
      "Layer (type)                    Output Shape         Param #     Connected to                     \n",
      "==================================================================================================\n",
      "encoder_input (InputLayer)      (None, 784)          0                                            \n",
      "__________________________________________________________________________________________________\n",
      "dummy (InputLayer)              (None, 1)            0                                            \n",
      "__________________________________________________________________________________________________\n",
      "encoder (Model)                 [(None, 4), (None, 4 351583      encoder_input[0][0]              \n",
      "                                                                 dummy[0][0]                      \n",
      "__________________________________________________________________________________________________\n",
      "decoder (Model)                 (None, 784)          327120      encoder[1][2]                    \n",
      "==================================================================================================\n",
      "Total params: 678,703\n",
      "Trainable params: 678,703\n",
      "Non-trainable params: 0\n",
      "__________________________________________________________________________________________________\n"
     ]
    }
   ],
   "source": [
    "# VAE model = encoder + decoder\n",
    "# build encoder model\n",
    "inputs = Input(shape=input_shape, name='encoder_input')\n",
    "inter_x1 = Dense(intermediate_dim, activation='relu', name='encoder_intermediate')(inputs)\n",
    "inter_x2 = Dense(intermediate_dim_2, activation='relu', name='encoder_intermediate_2')(inter_x1)\n",
    "inter_x3 = Dense(intermediate_dim_2, activation='relu', name='encoder_intermediate_3')(inter_x1)\n",
    "\n",
    "# add 3 means as additional parameters\n",
    "dummy = Input(shape=(1,), name='dummy')\n",
    "mu_vector = Dense(class_num*latent_dim, name='mu_vector',use_bias=False)(dummy)\n",
    "mu = Reshape((class_num,latent_dim), name='mu')(mu_vector)\n",
    "\n",
    "# prior categorical distribution\n",
    "pi = Dense(class_num, activation='softmax', name='pi')(dummy)\n",
    "\n",
    "# posterior categorical distribution\n",
    "c = Dense(class_num, activation='softmax', name='c')(inter_x2)\n",
    "\n",
    "# outlier/non-outlier classification (Posterior Beta)\n",
    "# inter_outlier = Dense(128, activation='relu', name='inter_outlier')(x)\n",
    "c_outlier = Dense(2, activation='softmax', name='c_outlier')(inter_x3)\n",
    "\n",
    "# q(z|x)\n",
    "z_mean = Dense(latent_dim, name='z_mean')(inter_x2)\n",
    "z_log_var = Dense(latent_dim, name='z_log_var')(inter_x2)\n",
    "\n",
    "# use reparameterization trick to push the sampling out as input\n",
    "z = Lambda(sampling, output_shape=(latent_dim,), name='z')([z_mean, z_log_var])\n",
    "\n",
    "# instantiate encoder model\n",
    "encoder = Model([inputs,dummy], [z_mean, z_log_var, z, mu, c, c_outlier, pi], name='encoder')\n",
    "encoder.summary()\n",
    "\n",
    "# build decoder model\n",
    "latent_inputs = Input(shape=(latent_dim,), name='z_sampling')\n",
    "inter_y1 = Dense(intermediate_dim_2, activation='relu')(latent_inputs)\n",
    "inter_y2 = Dense(intermediate_dim, activation='relu')(inter_y1)\n",
    "outputs = Dense(original_dim, activation='sigmoid')(inter_y2)\n",
    "\n",
    "# instantiate decoder model\n",
    "decoder = Model(latent_inputs, outputs, name='decoder')\n",
    "decoder.summary()\n",
    "#plot_model(decoder, to_file='vae_mlp_decoder.png', show_shapes=True)\n",
    "\n",
    "# instantiate VAE model\n",
    "outputs = decoder(encoder([inputs,dummy])[2])\n",
    "vae = Model([inputs,dummy], outputs, name='vae_mlp')\n",
    "vae.summary()"
   ]
  },
  {
   "cell_type": "code",
   "execution_count": 7,
   "metadata": {},
   "outputs": [
    {
     "data": {
      "text/plain": [
       "[<tf.Tensor 'encoder/z_mean/BiasAdd:0' shape=(?, 4) dtype=float32>,\n",
       " <tf.Tensor 'encoder/z_log_var/BiasAdd:0' shape=(?, 4) dtype=float32>,\n",
       " <tf.Tensor 'encoder/z/add:0' shape=(?, 4) dtype=float32>,\n",
       " <tf.Tensor 'encoder/mu/Reshape:0' shape=(?, 3, 4) dtype=float32>,\n",
       " <tf.Tensor 'encoder/c/Softmax:0' shape=(?, 3) dtype=float32>,\n",
       " <tf.Tensor 'encoder/c_outlier/Softmax:0' shape=(?, 2) dtype=float32>,\n",
       " <tf.Tensor 'encoder/pi/Softmax:0' shape=(?, 3) dtype=float32>]"
      ]
     },
     "execution_count": 7,
     "metadata": {},
     "output_type": "execute_result"
    }
   ],
   "source": [
    "encoder([inputs,dummy])"
   ]
  },
  {
   "cell_type": "code",
   "execution_count": 14,
   "metadata": {},
   "outputs": [],
   "source": [
    "from keras.utils import plot_model\n",
    "plot_model(vae, to_file='model.png')"
   ]
  },
  {
   "cell_type": "code",
   "execution_count": 12,
   "metadata": {
    "scrolled": true
   },
   "outputs": [
    {
     "name": "stdout",
     "output_type": "stream",
     "text": [
      "WARNING:tensorflow:Variable += will be deprecated. Use variable.assign_add if you want assignment to the variable value or 'x = x + y' if you want a new python Tensor object.\n",
      "WARNING:tensorflow:Variable += will be deprecated. Use variable.assign_add if you want assignment to the variable value or 'x = x + y' if you want a new python Tensor object.\n",
      "WARNING:tensorflow:Variable += will be deprecated. Use variable.assign_add if you want assignment to the variable value or 'x = x + y' if you want a new python Tensor object.\n",
      "__________________________________________________________________________________________________\n",
      "Layer (type)                    Output Shape         Param #     Connected to                     \n",
      "==================================================================================================\n",
      "encoder_input (InputLayer)      (None, 784)          0                                            \n",
      "__________________________________________________________________________________________________\n",
      "dummy (InputLayer)              (None, 1)            0                                            \n",
      "__________________________________________________________________________________________________\n",
      "encoder (Model)                 [(None, 4), (None, 4 351583      encoder_input[0][0]              \n",
      "                                                                 dummy[0][0]                      \n",
      "__________________________________________________________________________________________________\n",
      "decoder (Model)                 (None, 784)          327120      encoder[1][2]                    \n",
      "==================================================================================================\n",
      "Total params: 678,703\n",
      "Trainable params: 678,703\n",
      "Non-trainable params: 0\n",
      "__________________________________________________________________________________________________\n",
      "WARNING:tensorflow:From c:\\users\\junhao\\anaconda3\\lib\\site-packages\\tensorflow\\python\\ops\\math_ops.py:3066: to_int32 (from tensorflow.python.ops.math_ops) is deprecated and will be removed in a future version.\n",
      "Instructions for updating:\n",
      "Use tf.cast instead.\n",
      "Epoch 1/50\n",
      "20150/20150 [==============================] - 8s 384us/step - loss: 211.8273\n",
      "Epoch 2/50\n",
      "20150/20150 [==============================] - 1s 36us/step - loss: 135.0752\n",
      "Epoch 3/50\n",
      "20150/20150 [==============================] - 1s 35us/step - loss: 121.9783\n",
      "Epoch 4/50\n",
      "20150/20150 [==============================] - 1s 36us/step - loss: 115.5514\n",
      "Epoch 5/50\n",
      "20150/20150 [==============================] - 1s 35us/step - loss: 111.4897\n",
      "Epoch 6/50\n",
      "20150/20150 [==============================] - 1s 35us/step - loss: 108.7027\n",
      "Epoch 7/50\n",
      "20150/20150 [==============================] - 1s 36us/step - loss: 106.6551\n",
      "Epoch 8/50\n",
      "20150/20150 [==============================] - 1s 36us/step - loss: 104.8990\n",
      "Epoch 9/50\n",
      "20150/20150 [==============================] - 1s 35us/step - loss: 103.4803\n",
      "Epoch 10/50\n",
      "20150/20150 [==============================] - 1s 35us/step - loss: 102.3027\n",
      "Epoch 11/50\n",
      "20150/20150 [==============================] - 1s 35us/step - loss: 101.2843\n",
      "Epoch 12/50\n",
      "20150/20150 [==============================] - 1s 35us/step - loss: 100.6260\n",
      "Epoch 13/50\n",
      "20150/20150 [==============================] - 1s 34us/step - loss: 99.9210\n",
      "Epoch 14/50\n",
      "20150/20150 [==============================] - ETA: 0s - loss: 99.45 - 1s 35us/step - loss: 99.3979\n",
      "Epoch 15/50\n",
      "20150/20150 [==============================] - 1s 35us/step - loss: 98.9948\n",
      "Epoch 16/50\n",
      "20150/20150 [==============================] - 1s 34us/step - loss: 98.7956\n",
      "Epoch 17/50\n",
      "20150/20150 [==============================] - 1s 34us/step - loss: 98.1128\n",
      "Epoch 18/50\n",
      "20150/20150 [==============================] - 1s 35us/step - loss: 97.7916\n",
      "Epoch 19/50\n",
      "20150/20150 [==============================] - 1s 35us/step - loss: 97.2531\n",
      "Epoch 20/50\n",
      "20150/20150 [==============================] - 1s 35us/step - loss: 97.0454\n",
      "Epoch 21/50\n",
      "20150/20150 [==============================] - 1s 36us/step - loss: 96.9655\n",
      "Epoch 22/50\n",
      "20150/20150 [==============================] - 1s 35us/step - loss: 96.4792\n",
      "Epoch 23/50\n",
      "20150/20150 [==============================] - 1s 36us/step - loss: 96.1567\n",
      "Epoch 24/50\n",
      "20150/20150 [==============================] - 1s 36us/step - loss: 95.9703\n",
      "Epoch 25/50\n",
      "20150/20150 [==============================] - 1s 35us/step - loss: 95.7051\n",
      "Epoch 26/50\n",
      "20150/20150 [==============================] - 1s 35us/step - loss: 95.4168\n",
      "Epoch 27/50\n",
      "20150/20150 [==============================] - 1s 35us/step - loss: 95.4947\n",
      "Epoch 28/50\n",
      "20150/20150 [==============================] - 1s 36us/step - loss: 95.0623\n",
      "Epoch 29/50\n",
      "20150/20150 [==============================] - 1s 35us/step - loss: 94.8462\n",
      "Epoch 30/50\n",
      "20150/20150 [==============================] - 1s 35us/step - loss: 94.5550\n",
      "Epoch 31/50\n",
      "20150/20150 [==============================] - 1s 36us/step - loss: 94.3969\n",
      "Epoch 32/50\n",
      "20150/20150 [==============================] - 1s 35us/step - loss: 94.3087\n",
      "Epoch 33/50\n",
      "20150/20150 [==============================] - 1s 35us/step - loss: 94.1718\n",
      "Epoch 34/50\n",
      "20150/20150 [==============================] - 1s 35us/step - loss: 93.9646\n",
      "Epoch 35/50\n",
      "20150/20150 [==============================] - 1s 34us/step - loss: 93.9312\n",
      "Epoch 36/50\n",
      "20150/20150 [==============================] - 1s 38us/step - loss: 93.7600\n",
      "Epoch 37/50\n",
      "20150/20150 [==============================] - 1s 35us/step - loss: 93.5871\n",
      "Epoch 38/50\n",
      "20150/20150 [==============================] - 1s 35us/step - loss: 93.5585\n",
      "Epoch 39/50\n",
      "20150/20150 [==============================] - 1s 34us/step - loss: 93.2848\n",
      "Epoch 40/50\n",
      "20150/20150 [==============================] - 1s 35us/step - loss: 93.0740\n",
      "Epoch 41/50\n",
      "20150/20150 [==============================] - 1s 35us/step - loss: 93.0073\n",
      "Epoch 42/50\n",
      "20150/20150 [==============================] - 1s 36us/step - loss: 92.6832\n",
      "Epoch 43/50\n",
      "20150/20150 [==============================] - 1s 34us/step - loss: 92.5706\n",
      "Epoch 44/50\n",
      "20150/20150 [==============================] - 1s 36us/step - loss: 92.4108\n",
      "Epoch 45/50\n",
      "20150/20150 [==============================] - 1s 36us/step - loss: 92.3211\n",
      "Epoch 46/50\n",
      "20150/20150 [==============================] - 1s 35us/step - loss: 92.4827\n",
      "Epoch 47/50\n",
      "20150/20150 [==============================] - 1s 35us/step - loss: 92.2336\n",
      "Epoch 48/50\n",
      "20150/20150 [==============================] - 1s 35us/step - loss: 91.9595\n",
      "Epoch 49/50\n",
      "20150/20150 [==============================] - 1s 35us/step - loss: 91.8659\n",
      "Epoch 50/50\n",
      "20150/20150 [==============================] - 1s 35us/step - loss: 91.7553\n"
     ]
    }
   ],
   "source": [
    "models = (encoder, decoder)\n",
    "dummy_train = np.ones((x_train.shape[0],1))\n",
    "\n",
    "# weight for outlier Beta prior\n",
    "# portion of outlier class\n",
    "Lambda1 = 1\n",
    "Lambda2 = 200 \n",
    "Alpha = 0.05\n",
    "\n",
    "# reconstruction loss\n",
    "reconstruction_loss = binary_crossentropy(inputs, outputs)\n",
    "reconstruction_loss = K.tf.multiply(reconstruction_loss, c_outlier[:,0])\n",
    "reconstruction_loss *= original_dim\n",
    "\n",
    "# sum over reconstruction loss and kl-div loss\n",
    "kl_loss_all = K.tf.get_variable(\"kl_loss_all\", [batch_size,1], \n",
    "                                dtype=K.tf.float32,initializer=K.tf.zeros_initializer)\n",
    "kl_cat_all = K.tf.get_variable(\"kl_cat_all\", [batch_size,1], \n",
    "                                dtype=K.tf.float32,initializer=K.tf.zeros_initializer)\n",
    "dir_prior_all = K.tf.get_variable(\"dir_prior_all\", [batch_size,1], \n",
    "                                  dtype=K.tf.float32,initializer=K.tf.zeros_initializer)\n",
    "\n",
    "for i in range(0,class_num):\n",
    "    # stick-breaking reconstruction of categorical distribution\n",
    "    c_inlier = K.tf.multiply(c[:,i],c_outlier[:,0])\n",
    "    \n",
    "    # kl-divergence between q(z|x) and p(z|c)\n",
    "    kl_loss = 1 + z_log_var - K.square(z_mean-mu[:,i,:]) - K.exp(z_log_var)\n",
    "    kl_loss = K.tf.multiply(K.sum(kl_loss, axis=-1), c_inlier)\n",
    "    kl_loss *= -0.5\n",
    "    kl_loss_all += kl_loss\n",
    "    \n",
    "    # kl-divergence between q(c|x) and p(c) (not including outlier class)\n",
    "    mc = K.mean(c[:,i])\n",
    "    mpi = K.mean(pi[:,i])\n",
    "    kl_cat = mc * K.log(mc)- mc * K.log(mpi)\n",
    "    kl_cat_all += kl_cat\n",
    "    \n",
    "    # Dir prior: Dir(3, 3, ..., 3)\n",
    "    dir_prior = -0.1*K.log(pi[:,i])\n",
    "    dir_prior_all += dir_prior\n",
    "    \n",
    "# kl-divergence between Beta prior and Beta posterior (outlier class)\n",
    "mco1 = K.mean(c_outlier[:,0])\n",
    "mco2 = K.mean(c_outlier[:,1])\n",
    "mpo1 = 1-Alpha\n",
    "mpo2 = Alpha\n",
    "kl_cat_outlier = (mco1 * K.log(mco1)- mco1 * np.log(mpo1)+\n",
    "                  mco2 * K.log(mco2)- mco2 * np.log(mpo2))\n",
    "#kl_cat_outlier = K.square(mco2)\n",
    "\n",
    "# total loss\n",
    "vae_loss = K.mean(reconstruction_loss+\n",
    "                  kl_loss_all+\n",
    "                  dir_prior_all+\n",
    "                  Lambda1*kl_cat_all)+Lambda2*kl_cat_outlier\n",
    "\n",
    "vae.add_loss(vae_loss)\n",
    "vae.compile(optimizer='adam')\n",
    "vae.summary()\n",
    "\n",
    "#vae.load_weights('vae_mlp_mnist.h5')\n",
    "vae.fit([x_train,dummy_train],\n",
    "        epochs=epochs,\n",
    "        batch_size=batch_size)\n",
    "vae.save_weights('vae_mlp_mnist_updated.h5')"
   ]
  },
  {
   "cell_type": "code",
   "execution_count": 13,
   "metadata": {},
   "outputs": [],
   "source": [
    "[z_mean, z_log_var, z, mu, c, c_outlier, pi] = encoder.predict([x_train,dummy_train],batch_size=batch_size)\n",
    "\n",
    "# estimate label\n",
    "labels = np.zeros(x_train.shape[0])\n",
    "for i in range(0, x_train.shape[0]):\n",
    "    max_prob = np.max(np.multiply(c[i,:],c_outlier[i,0]))\n",
    "    idx = np.argmax(np.multiply(c[i,:],c_outlier[i,0]))\n",
    "    if (max_prob > c_outlier[i,1]):\n",
    "        labels[i] = idx\n",
    "    else:\n",
    "        labels[i] = class_num"
   ]
  },
  {
   "cell_type": "code",
   "execution_count": 25,
   "metadata": {},
   "outputs": [],
   "source": [
    "from sklearn.metrics.cluster import adjusted_mutual_info_score"
   ]
  },
  {
   "cell_type": "code",
   "execution_count": 26,
   "metadata": {},
   "outputs": [
    {
     "name": "stderr",
     "output_type": "stream",
     "text": [
      "c:\\users\\junhao\\anaconda3\\lib\\site-packages\\sklearn\\metrics\\cluster\\supervised.py:746: FutureWarning: The behavior of AMI will change in version 0.22. To match the behavior of 'v_measure_score', AMI will use average_method='arithmetic' by default.\n",
      "  FutureWarning)\n"
     ]
    },
    {
     "data": {
      "text/plain": [
       "0.7297005376128577"
      ]
     },
     "execution_count": 26,
     "metadata": {},
     "output_type": "execute_result"
    }
   ],
   "source": [
    "adjusted_mutual_info_score(y_train, labels)"
   ]
  },
  {
   "cell_type": "code",
   "execution_count": 14,
   "metadata": {},
   "outputs": [
    {
     "data": {
      "text/plain": [
       "Text(0.5, 1.0, 'Mean Image of Each Estimated Cluster')"
      ]
     },
     "execution_count": 14,
     "metadata": {},
     "output_type": "execute_result"
    },
    {
     "data": {
      "image/png": "[encoded data removed]",
      "text/plain": [
       "<Figure size 576x144 with 3 Axes>"
      ]
     },
     "metadata": {
      "needs_background": "light"
     },
     "output_type": "display_data"
    }
   ],
   "source": [
    "dist = np.zeros(3)\n",
    "labels_new = np.zeros((x_train.shape[0],)) + 3\n",
    "\n",
    "# matched estimated cluster with ground-truth cluster\n",
    "for i in range(0,3):\n",
    "    mean_est = np.mean(x_train[labels == i,:], axis = 0)\n",
    "    for j in range(0,3):\n",
    "       dist[j] = np.linalg.norm(mean_train[j,:]-mean_est)\n",
    "    \n",
    "    idx_shuffle = np.argmin(dist)\n",
    "    labels_new[labels == i] = idx_shuffle\n",
    "\n",
    "fig = plt.figure(figsize=(8,2))\n",
    "for i in range(3):\n",
    "    ax = fig.add_subplot(1,3,i+1)\n",
    "    ax.imshow(np.reshape(np.mean(x_train[labels_new == i,:],axis=0),[28,28]))\n",
    "plt.title(\"Mean Image of Each Estimated Cluster\")"
   ]
  },
  {
   "cell_type": "code",
   "execution_count": 12,
   "metadata": {},
   "outputs": [],
   "source": [
    "from sklearn.manifold import TSNE\n",
    "X_embedded = TSNE(n_components=2).fit_transform(z_mean)"
   ]
  },
  {
   "cell_type": "code",
   "execution_count": 25,
   "metadata": {},
   "outputs": [
    {
     "data": {
      "text/plain": [
       "Text(0.5,1,'Latent Space Representation Estimated by tGM-VAE')"
      ]
     },
     "execution_count": 25,
     "metadata": {},
     "output_type": "execute_result"
    },
    {
     "data": {
      "image/png": "[encoded data removed]",
      "text/plain": [
       "<matplotlib.figure.Figure at 0x182c689550>"
      ]
     },
     "metadata": {},
     "output_type": "display_data"
    }
   ],
   "source": [
    "idx = labels_new < 3\n",
    "plt.scatter(X_embedded[idx,0],X_embedded[idx,1],c=labels_new[idx])\n",
    "plt.title('Latent Space Representation Estimated by tGM-VAE')"
   ]
  },
  {
   "cell_type": "code",
   "execution_count": null,
   "metadata": {},
   "outputs": [],
   "source": []
  }
 ],
 "metadata": {
  "kernelspec": {
   "display_name": "Python 3",
   "language": "python",
   "name": "python3"
  },
  "language_info": {
   "codemirror_mode": {
    "name": "ipython",
    "version": 3
   },
   "file_extension": ".py",
   "mimetype": "text/x-python",
   "name": "python",
   "nbconvert_exporter": "python",
   "pygments_lexer": "ipython3",
   "version": "3.7.3"
  }
 },
 "nbformat": 4,
 "nbformat_minor": 2
}
